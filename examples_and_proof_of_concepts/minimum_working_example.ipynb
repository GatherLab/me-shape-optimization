{
 "cells": [
  {
   "cell_type": "code",
   "execution_count": 17,
   "metadata": {},
   "outputs": [],
   "source": [
    "import sys\n",
    "# import dolfinx\n",
    "import numpy as np\n",
    "import matplotlib.pylab as plt\n",
    "import slepc4py\n",
    "\n",
    "from scipy.optimize import root\n",
    "from mpi4py import MPI\n",
    "from petsc4py import PETSc\n",
    "from slepc4py import SLEPc\n",
    "\n",
    "from dolfinx import fem, io, plot, mesh\n",
    "import ufl\n",
    "\n",
    "import pyvista\n",
    "pyvista.start_xvfb()\n",
    "\n",
    "\n",
    "slepc4py.init(sys.argv)"
   ]
  },
  {
   "cell_type": "code",
   "execution_count": 18,
   "metadata": {},
   "outputs": [],
   "source": [
    "# Define Geometry\n",
    "L, B, H = 5., 0.3, 0.6\n",
    "\n",
    "geometry_mesh = mesh.create_box(\n",
    "    MPI.COMM_WORLD,\n",
    "    [np.array([0, 0, 0]), np.array([L, H, B])],\n",
    "    [25, 3, 2],\n",
    "    cell_type=mesh.CellType.tetrahedron)"
   ]
  },
  {
   "cell_type": "code",
   "execution_count": 19,
   "metadata": {},
   "outputs": [],
   "source": [
    "# Define vector space from geometry mesh\n",
    "V = fem.VectorFunctionSpace(geometry_mesh, (\"CG\", 2))\n",
    "\n",
    "u = ufl.TrialFunction(V)\n",
    "v = ufl.TestFunction(V)"
   ]
  },
  {
   "cell_type": "code",
   "execution_count": 20,
   "metadata": {},
   "outputs": [],
   "source": [
    "# Boundary condition\n",
    "def clamped_boundary(x):\n",
    "    return np.isclose(x[0], 0)\n",
    "\n",
    "fdim = geometry_mesh.topology.dim - 1\n",
    "boundary_facets = mesh.locate_entities_boundary(geometry_mesh, fdim, clamped_boundary)\n",
    "\n",
    "u_D = fem.Function(V)\n",
    "with u_D.vector.localForm() as loc:\n",
    "    loc.set(0)\n",
    "\n",
    "bc = fem.dirichletbc(u_D, fem.locate_dofs_topological(V, fdim, boundary_facets))"
   ]
  },
  {
   "cell_type": "code",
   "execution_count": null,
   "metadata": {},
   "outputs": [],
   "source": [
    "# Define actual problem\n",
    "E, nu = (2E11), (0.3)\n",
    "rho = (7850)\n",
    "mu = E/2./(1+nu)\n",
    "lambda_ = E*nu/(1+nu)/(1-2*nu)\n",
    "\n",
    "\n",
    "def epsilon(u):\n",
    "    return 0.5*(ufl.nabla_grad(u) + ufl.nabla_grad(u).T)\n",
    "\n",
    "\n",
    "def sigma(u):\n",
    "    return lambda_ * ufl.nabla_div(u) * ufl.Identity(3) \\\n",
    "           + 2*mu*epsilon(u)\n",
    "\n",
    "T = fem.Constant(geometry_mesh, (PETSc.ScalarType(0), PETSc.ScalarType(0),\n",
    "                    PETSc.ScalarType(0)))\n",
    "k_form = ufl.inner(sigma(u), epsilon(v))*ufl.dx\n",
    "m_form = rho*ufl.dot(u, v)*ufl.dx\n",
    "k = fem.form(k_form)\n",
    "m = fem.form(m_form)\n",
    "\n",
    "\n",
    "K = fem.petsc.assemble_matrix(k, bcs=[bc2])\n",
    "K.assemble()\n",
    "\n",
    "M = fem.petsc.assemble_matrix(m, bcs=[bc2])\n",
    "M.assemble()"
   ]
  },
  {
   "cell_type": "code",
   "execution_count": null,
   "metadata": {},
   "outputs": [],
   "source": [
    "# Define eigensolver and solve for eigenvalues\n",
    "no_eigenvalues = 6 \n",
    "\n",
    "eigensolver = SLEPc.EPS().create(geometry_mesh.comm)\n",
    "eigensolver.setOperators(K, M)\n",
    "eigensolver.setProblemType(SLEPc.EPS.ProblemType.GNHEP)\n",
    "tol = 1e-9\n",
    "eigensolver.setTolerances(tol=tol)\n",
    "st = eigensolver.getST()\n",
    "st.setType(SLEPc.ST.Type.SINVERT)\n",
    "eigensolver.setWhichEigenpairs(SLEPc.EPS.Which.TARGET_REAL)\n",
    "eigensolver.setTarget(100)\n",
    "eigensolver.setDimensions(nev=no_eigenvalues)\n",
    "\n",
    "# Solve the eigensystem\n",
    "eigensolver.solve()\n",
    "\n",
    "# Get the number of converged eigenpairs\n",
    "evs = eigensolver.getConverged()\n",
    "\n",
    "# Create dummy vectors for the eigenvectors to store the results in\n",
    "vr, vi = K.createVecs()"
   ]
  },
  {
   "cell_type": "code",
   "execution_count": null,
   "metadata": {},
   "outputs": [
    {
     "data": {
      "application/vnd.jupyter.widget-view+json": {
       "model_id": "94be78a90c25484f84b19dd9f697e63d",
       "version_major": 2,
       "version_minor": 0
      },
      "text/plain": [
       "Widget(value=\"<iframe src='http://localhost:46479/index.html?ui=P_0x7f7d8878e920_20&reconnect=auto' style='wid…"
      ]
     },
     "metadata": {},
     "output_type": "display_data"
    },
    {
     "name": "stdout",
     "output_type": "stream",
     "text": [
      "Solid FE:  9.83051 [Hz]\n"
     ]
    },
    {
     "data": {
      "application/vnd.jupyter.widget-view+json": {
       "model_id": "1d358715ea2947c2911c39f7db57d07f",
       "version_major": 2,
       "version_minor": 0
      },
      "text/plain": [
       "Widget(value=\"<iframe src='http://localhost:46479/index.html?ui=P_0x7f7e1c0ef7c0_21&reconnect=auto' style='wid…"
      ]
     },
     "metadata": {},
     "output_type": "display_data"
    },
    {
     "name": "stdout",
     "output_type": "stream",
     "text": [
      "Solid FE: 19.45146 [Hz]\n"
     ]
    },
    {
     "data": {
      "application/vnd.jupyter.widget-view+json": {
       "model_id": "f1f7e6820da942acaf959ebb6e1fb237",
       "version_major": 2,
       "version_minor": 0
      },
      "text/plain": [
       "Widget(value=\"<iframe src='http://localhost:46479/index.html?ui=P_0x7f7da80efcd0_22&reconnect=auto' style='wid…"
      ]
     },
     "metadata": {},
     "output_type": "display_data"
    },
    {
     "name": "stdout",
     "output_type": "stream",
     "text": [
      "Solid FE: 60.61639 [Hz]\n"
     ]
    },
    {
     "data": {
      "application/vnd.jupyter.widget-view+json": {
       "model_id": "42a1aa76d1604ef3b8e7cd9ab38c500b",
       "version_major": 2,
       "version_minor": 0
      },
      "text/plain": [
       "Widget(value=\"<iframe src='http://localhost:46479/index.html?ui=P_0x7f7cc65ff6d0_23&reconnect=auto' style='wid…"
      ]
     },
     "metadata": {},
     "output_type": "display_data"
    },
    {
     "name": "stdout",
     "output_type": "stream",
     "text": [
      "Solid FE: 114.64296 [Hz]\n"
     ]
    },
    {
     "data": {
      "application/vnd.jupyter.widget-view+json": {
       "model_id": "1dfe76fbc38e4c97bdba33a83c3ea948",
       "version_major": 2,
       "version_minor": 0
      },
      "text/plain": [
       "Widget(value=\"<iframe src='http://localhost:46479/index.html?ui=P_0x7f7d48043220_24&reconnect=auto' style='wid…"
      ]
     },
     "metadata": {},
     "output_type": "display_data"
    },
    {
     "name": "stdout",
     "output_type": "stream",
     "text": [
      "Solid FE: 118.82391 [Hz]\n"
     ]
    },
    {
     "data": {
      "application/vnd.jupyter.widget-view+json": {
       "model_id": "e37a48994a8a476f9a6efffbc0dea388",
       "version_major": 2,
       "version_minor": 0
      },
      "text/plain": [
       "Widget(value=\"<iframe src='http://localhost:46479/index.html?ui=P_0x7f7d1c026f50_25&reconnect=auto' style='wid…"
      ]
     },
     "metadata": {},
     "output_type": "display_data"
    },
    {
     "name": "stdout",
     "output_type": "stream",
     "text": [
      "Solid FE: 165.68699 [Hz]\n"
     ]
    },
    {
     "data": {
      "application/vnd.jupyter.widget-view+json": {
       "model_id": "b5774a22c24e49b5aa8d452c967d9c3e",
       "version_major": 2,
       "version_minor": 0
      },
      "text/plain": [
       "Widget(value=\"<iframe src='http://localhost:46479/index.html?ui=P_0x7f7d1c102c50_26&reconnect=auto' style='wid…"
      ]
     },
     "metadata": {},
     "output_type": "display_data"
    },
    {
     "name": "stdout",
     "output_type": "stream",
     "text": [
      "Solid FE: 253.16437 [Hz]\n"
     ]
    }
   ],
   "source": [
    "for i in range(evs):\n",
    "    # e_val = eigensolver.getEigenpair(i, vr, vi)\n",
    "    # Get the ith eigenvalue and eigenvector (vr and vi are placeholders for\n",
    "    # the real and complex parts of the eigenvectors) they are then saved in\n",
    "    # the input variables (vr, vi)\n",
    "    eigenvalue = eigensolver.getEigenpair(i, vr, vi)\n",
    "    # e_vec = eigensolver.getEigenvector(i, eh.vector)\n",
    "\n",
    "    if (~np.isclose(eigenvalue.real, 1.0)):\n",
    "        # Calculation of eigenfrequency from real part of eigenvalue\n",
    "        freq_3D = np.sqrt(eigenvalue.real)/2/np.pi\n",
    "\n",
    "        eigenmode = fem.Function(V)\n",
    "        eigenmode.vector[:] = vr.getArray()\n",
    "\n",
    "        \"\"\"\n",
    "        # Get coordinates from vector space V\n",
    "        coord = V.tabulate_dof_coordinates()\n",
    "\n",
    "        # Get number of degress of freedom and subspaces\n",
    "        num_sub_spaces = V.num_sub_spaces\n",
    "        num_dofs_per_component = int(np.size(coord)/ num_sub_spaces)\n",
    "\n",
    "        # vector = np.zeros((num_sub_spaces, num_dofs_per_component))\n",
    "        vector = eigenmode.vector.getArray().reshape(num_dofs_per_component, num_sub_spaces)\n",
    "        \n",
    "        x = coord[:, 0]\n",
    "        y = coord[:, 1]\n",
    "        z = coord[:, 2]\n",
    "        mode_magnitude = np.sum(np.abs(vector), axis=1)\n",
    "        \"\"\"\n",
    "\n",
    "        # plot_shape_with_resonance(x,y,mode_magnitude, L)\n",
    "        # Create plotter and pyvista grid\n",
    "        # p = pyvista.Plotter(off_screen=True)\n",
    "        p = pyvista.Plotter()\n",
    "        topology, cell_types, geometry = plot.create_vtk_mesh(V)\n",
    "        grid = pyvista.UnstructuredGrid(topology, cell_types, geometry)\n",
    "\n",
    "\n",
    "        # Attach vector values to grid and warp grid by vector\n",
    "        grid[\"u\"] = eigenmode.x.array.reshape((geometry.shape[0], 3))\n",
    "        actor_0 = p.add_mesh(grid, style=\"wireframe\", color=\"k\")\n",
    "        warped = grid.warp_by_vector(\"u\", factor=5)\n",
    "        actor_1 = p.add_mesh(warped, show_edges=True)\n",
    "        p.show_axes()\n",
    "        if not pyvista.OFF_SCREEN:\n",
    "           p.show()\n",
    "        else:\n",
    "            figure_as_array = p.screenshot(\"deflection.png\")\n",
    "\n",
    "        print(\n",
    "            \"Solid FE: {0:8.5f} [Hz]\".format(freq_3D))\n"
   ]
  }
 ],
 "metadata": {
  "kernelspec": {
   "display_name": "Python 3",
   "language": "python",
   "name": "python3"
  },
  "language_info": {
   "codemirror_mode": {
    "name": "ipython",
    "version": 3
   },
   "file_extension": ".py",
   "mimetype": "text/x-python",
   "name": "python",
   "nbconvert_exporter": "python",
   "pygments_lexer": "ipython3",
   "version": "3.10.6"
  },
  "orig_nbformat": 4
 },
 "nbformat": 4,
 "nbformat_minor": 2
}
