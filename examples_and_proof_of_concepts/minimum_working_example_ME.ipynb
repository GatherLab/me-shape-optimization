{
 "cells": [
  {
   "cell_type": "code",
   "execution_count": 1,
   "metadata": {},
   "outputs": [],
   "source": [
    "import sys\n",
    "# import dolfinx\n",
    "import numpy as np\n",
    "import matplotlib.pylab as plt\n",
    "import slepc4py\n",
    "\n",
    "from scipy.optimize import root\n",
    "from mpi4py import MPI\n",
    "from petsc4py import PETSc\n",
    "from slepc4py import SLEPc\n",
    "\n",
    "from dolfinx import fem, io, plot, mesh\n",
    "import ufl\n",
    "\n",
    "import pyvista\n",
    "pyvista.start_xvfb()\n",
    "\n",
    "\n",
    "slepc4py.init(sys.argv)"
   ]
  },
  {
   "cell_type": "code",
   "execution_count": 2,
   "metadata": {},
   "outputs": [],
   "source": [
    "# Define Geometry\n",
    "L, H, B = 11e-3, 0.2e-3, 3e-3\n",
    "\n",
    "geometry_mesh = mesh.create_box(\n",
    "    MPI.COMM_WORLD,\n",
    "    [np.array([0, 0, 0]), np.array([L, H, B])],\n",
    "    [20, 2, 5],\n",
    "    cell_type=mesh.CellType.tetrahedron)"
   ]
  },
  {
   "cell_type": "code",
   "execution_count": 3,
   "metadata": {},
   "outputs": [],
   "source": [
    "# Define vector space from geometry mesh\n",
    "V = fem.VectorFunctionSpace(geometry_mesh, (\"CG\", 2))\n",
    "\n",
    "u = ufl.TrialFunction(V)\n",
    "v = ufl.TestFunction(V)"
   ]
  },
  {
   "cell_type": "code",
   "execution_count": 4,
   "metadata": {},
   "outputs": [],
   "source": [
    "fdim = geometry_mesh.topology.dim - 1\n",
    "\n",
    "# Fixed z \n",
    "space, map = V.sub(2).collapse()\n",
    "u_D1 = fem.Function(space)\n",
    "\n",
    "# Assign all the displacements along y to be zero\n",
    "with u_D1.vector.localForm() as loc:\n",
    "    loc.set(0.)\n",
    "\n",
    "# Locate facets where y = 0 or y = H\n",
    "locate_dofs1 = fem.locate_dofs_geometrical((V.sub(1), space), lambda x: np.logical_or(np.isclose(x[1], 0), np.isclose(x[1], H)))\n",
    "\n",
    "# Create Dirichlet BC\n",
    "bc1 = fem.dirichletbc(u_D1, locate_dofs1, V.sub(1))\n",
    "\n",
    "# Fixed y \n",
    "# Get sub space of y's\n",
    "space_2, map_2 = V.sub(2).collapse()\n",
    "u_D2 = fem.Function(space_2)\n",
    "\n",
    "# Assign all the displacements along y to be zero\n",
    "with u_D2.vector.localForm() as loc:\n",
    "    loc.set(0.)\n",
    "\n",
    "# Locate facets where y = 0 or y = H\n",
    "locate_dofs2 = fem.locate_dofs_geometrical((V.sub(2), space_2), lambda x: np.logical_or(np.isclose(x[2], 0), np.isclose(x[2], B)))\n",
    "\n",
    "# Create Dirichlet BC\n",
    "bc2 = fem.dirichletbc(u_D2, locate_dofs2, V.sub(2))"
   ]
  },
  {
   "cell_type": "code",
   "execution_count": 5,
   "metadata": {},
   "outputs": [],
   "source": [
    "# Define actual problem\n",
    "E, nu = (5.4e10), (0.34)\n",
    "rho = (7950.0)\n",
    "mu = E/2./(1+nu)\n",
    "lambda_ = E*nu/(1+nu)/(1-2*nu)\n",
    "\n",
    "\n",
    "def epsilon(u):\n",
    "    return 0.5*(ufl.nabla_grad(u) + ufl.nabla_grad(u).T)\n",
    "\n",
    "\n",
    "def sigma(u):\n",
    "    return lambda_ * ufl.nabla_div(u) * ufl.Identity(3) \\\n",
    "           + 2*mu*epsilon(u)\n",
    "\n",
    "T = fem.Constant(geometry_mesh, (PETSc.ScalarType(0), PETSc.ScalarType(0),\n",
    "                    PETSc.ScalarType(0)))\n",
    "k_form = ufl.inner(sigma(u), epsilon(v))*ufl.dx\n",
    "m_form = rho*ufl.dot(u, v)*ufl.dx\n",
    "k = fem.form(k_form)\n",
    "m = fem.form(m_form)\n",
    "\n",
    "\n",
    "# One of the big questions is: which boundary conditions do we apply?\n",
    "# I am able to retrieve sensible results for either no boundary conditions, only\n",
    "# boundary condition 1 and both boundary conditions. The resonance frequency\n",
    "# changes quite a bit though.\n",
    "K = fem.petsc.assemble_matrix(k, bcs=[bc1])\n",
    "K.assemble()\n",
    "\n",
    "M = fem.petsc.assemble_matrix(m, bcs=[bc1])\n",
    "M.assemble()"
   ]
  },
  {
   "cell_type": "code",
   "execution_count": 6,
   "metadata": {},
   "outputs": [],
   "source": [
    "# Define eigensolver and solve for eigenvalues\n",
    "no_eigenvalues = 30 \n",
    "target_frequency = 100000\n",
    "\n",
    "eigensolver = SLEPc.EPS().create(geometry_mesh.comm)\n",
    "eigensolver.setOperators(K, M)\n",
    "\n",
    "eigensolver.setProblemType(SLEPc.EPS.ProblemType.GHEP)\n",
    "# tol = 1e-9\n",
    "# eigensolver.setTolerances(tol=tol)\n",
    "\n",
    "# Shift and invert mode\n",
    "st = eigensolver.getST()\n",
    "st.setType(SLEPc.ST.Type.SINVERT)\n",
    "# target real eigenvalues\n",
    "eigensolver.setWhichEigenpairs(SLEPc.EPS.Which.TARGET_REAL)\n",
    "# Set the target frequency\n",
    "eigensolver.setTarget(target_frequency**2 * 2 * np.pi)\n",
    "# Set no of eigenvalues to compute \n",
    "eigensolver.setDimensions(nev=no_eigenvalues)\n",
    "\n",
    "# Solve the eigensystem\n",
    "eigensolver.solve()\n"
   ]
  },
  {
   "cell_type": "code",
   "execution_count": 7,
   "metadata": {},
   "outputs": [
    {
     "name": "stdout",
     "output_type": "stream",
     "text": [
      "Solid FE: 57375.51707 [Hz]\n",
      "Solid FE: 123252.59630 [Hz]\n"
     ]
    },
    {
     "data": {
      "application/vnd.jupyter.widget-view+json": {
       "model_id": "0dd072a99c28410c827a405bf6f9b5d6",
       "version_major": 2,
       "version_minor": 0
      },
      "text/plain": [
       "Widget(value=\"<iframe src='http://localhost:40537/index.html?ui=P_0x7f3b41ca2830_0&reconnect=auto' style='widt…"
      ]
     },
     "metadata": {},
     "output_type": "display_data"
    },
    {
     "name": "stdout",
     "output_type": "stream",
     "text": [
      "Solid FE: 124889.61146 [Hz]\n",
      "Solid FE: 194002.22060 [Hz]\n",
      "Solid FE: 241715.36558 [Hz]\n",
      "Solid FE: 249632.53345 [Hz]\n",
      "Solid FE: 300260.12175 [Hz]\n",
      "Solid FE: 301374.94527 [Hz]\n",
      "Solid FE: 334403.47718 [Hz]\n",
      "Solid FE: 372340.82415 [Hz]\n",
      "Solid FE: 374174.31890 [Hz]\n",
      "Solid FE: 391189.19475 [Hz]\n",
      "Solid FE: 400839.90380 [Hz]\n",
      "Solid FE: 402687.36873 [Hz]\n",
      "Solid FE: 439069.77600 [Hz]\n",
      "Solid FE: 448521.79396 [Hz]\n",
      "Solid FE: 452747.87079 [Hz]\n",
      "Solid FE: 481956.95047 [Hz]\n",
      "Solid FE: 504223.06112 [Hz]\n",
      "Solid FE: 509611.99290 [Hz]\n",
      "Solid FE: 519357.43611 [Hz]\n",
      "Solid FE: 524665.92081 [Hz]\n"
     ]
    }
   ],
   "source": [
    "# Get the number of converged eigenpairs\n",
    "evs = eigensolver.getConverged()\n",
    "\n",
    "# Create dummy vectors for the eigenvectors to store the results in\n",
    "vr, vi = K.createVecs()\n",
    "\n",
    "k = 0\n",
    "for i in range(evs):\n",
    "    # e_val = eigensolver.getEigenpair(i, vr, vi)\n",
    "    # Get the ith eigenvalue and eigenvector (vr and vi are placeholders for\n",
    "    # the real and complex parts of the eigenvectors) they are then saved in\n",
    "    # the input variables (vr, vi)\n",
    "    eigenvalue = eigensolver.getEigenpair(i, vr, vi)\n",
    "    # e_vec = eigensolver.getEigenvector(i, eh.vector)\n",
    "\n",
    "    if (~np.isclose(eigenvalue.real, 1.0, atol=5)):\n",
    "        # Calculation of eigenfrequency from real part of eigenvalue\n",
    "        freq_3D = np.sqrt(eigenvalue.real)/2/np.pi\n",
    "\n",
    "        eigenmode = fem.Function(V)\n",
    "        eigenmode.vector[:] = vr.getArray()\n",
    "\n",
    "        # plot_shape_with_resonance(x,y,mode_magnitude, L)\n",
    "        # Create plotter and pyvista grid\n",
    "        # p = pyvista.Plotter(off_screen=True)\n",
    "        if k == 2:\n",
    "            p = pyvista.Plotter()\n",
    "            topology, cell_types, geometry = plot.create_vtk_mesh(V)\n",
    "            grid = pyvista.UnstructuredGrid(topology, cell_types, geometry)\n",
    "\n",
    "\n",
    "            # Attach vector values to grid and warp grid by vector\n",
    "            grid[\"u\"] = eigenmode.x.array.reshape((geometry.shape[0], 3))\n",
    "            actor_0 = p.add_mesh(grid, style=\"wireframe\", color=\"k\")\n",
    "            warped = grid.warp_by_vector(\"u\", factor=5e-6)\n",
    "            actor_1 = p.add_mesh(warped, show_edges=True)\n",
    "            p.show_axes()\n",
    "            if not pyvista.OFF_SCREEN:\n",
    "               p.show()\n",
    "            else:\n",
    "                figure_as_array = p.screenshot(\"deflection.png\")\n",
    "\n",
    "        print(\n",
    "            \"Solid FE: {0:8.5f} [Hz]\".format(freq_3D))\n",
    "        k+=1\n"
   ]
  }
 ],
 "metadata": {
  "kernelspec": {
   "display_name": "Python 3",
   "language": "python",
   "name": "python3"
  },
  "language_info": {
   "codemirror_mode": {
    "name": "ipython",
    "version": 3
   },
   "file_extension": ".py",
   "mimetype": "text/x-python",
   "name": "python",
   "nbconvert_exporter": "python",
   "pygments_lexer": "ipython3",
   "version": "3.10.6"
  },
  "orig_nbformat": 4
 },
 "nbformat": 4,
 "nbformat_minor": 2
}
